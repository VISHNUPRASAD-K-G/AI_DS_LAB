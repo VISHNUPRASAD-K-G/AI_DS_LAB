{
 "cells": [
  {
   "cell_type": "code",
   "execution_count": 1,
   "id": "4cf34b18",
   "metadata": {},
   "outputs": [
    {
     "name": "stdout",
     "output_type": "stream",
     "text": [
      "   sl/no     name  mark grade\n",
      "0      1   vishnu    90     s\n",
      "1      2   jisnoy    75     b\n",
      "2      3     emil    60     c\n",
      "3      4  stephan    77    b+\n",
      "4      5     ajay    88    a+\n",
      "5      6   justin    80     a\n",
      "New Csv\n",
      "    sl/no     name  mark grade\n",
      "0      1   vishnu    90     s\n",
      "4      5     ajay    88    a+\n",
      "5      6   justin    80     a\n",
      "3      4  stephan    77    b+\n",
      "1      2   jisnoy    75     b\n",
      "2      3     emil    60     c\n"
     ]
    }
   ],
   "source": [
    "import pandas as pd\n",
    "import matplotlib.pyplot as plt\n",
    "\n",
    "csv=pd.read_csv(\"Book1.csv\")\n",
    "print(csv)\n",
    "srt=csv.sort_values([\"mark\"],ascending=False)\n",
    "\n",
    "print(\"New Csv\\n\",srt)"
   ]
  },
  {
   "cell_type": "code",
   "execution_count": null,
   "id": "032bc392",
   "metadata": {},
   "outputs": [],
   "source": []
  }
 ],
 "metadata": {
  "kernelspec": {
   "display_name": "Python 3 (ipykernel)",
   "language": "python",
   "name": "python3"
  },
  "language_info": {
   "codemirror_mode": {
    "name": "ipython",
    "version": 3
   },
   "file_extension": ".py",
   "mimetype": "text/x-python",
   "name": "python",
   "nbconvert_exporter": "python",
   "pygments_lexer": "ipython3",
   "version": "3.9.13"
  }
 },
 "nbformat": 4,
 "nbformat_minor": 5
}
