{
 "cells": [
  {
   "cell_type": "code",
   "execution_count": 36,
   "id": "1f4f6070",
   "metadata": {},
   "outputs": [
    {
     "name": "stdout",
     "output_type": "stream",
     "text": [
      "[[13  0  0]\n",
      " [ 0  6  0]\n",
      " [ 0  4  7]]\n",
      "Accuracy : 86.66666666666667\n",
      "Precision : 0.8666666666666667\n",
      "Recall :0.8787878787878788\n"
     ]
    },
    {
     "data": {
      "image/png": "[encoded data removed]",
      "text/plain": [
       "<Figure size 432x288 with 2 Axes>"
      ]
     },
     "metadata": {
      "needs_background": "light"
     },
     "output_type": "display_data"
    }
   ],
   "source": [
    "import numpy as np\n",
    "import pandas as pd\n",
    "from sklearn.datasets import load_iris\n",
    "from sklearn.model_selection import train_test_split\n",
    "from sklearn.metrics import confusion_matrix,precision_score,recall_score,accuracy_score,ConfusionMatrixDisplay\n",
    "from sklearn.svm import SVC\n",
    "import matplotlib.pyplot as plt\n",
    "import seaborn as sns\n",
    "\n",
    "data=load_iris()\n",
    "x=data.data\n",
    "y=data.target\n",
    "class_names=iris.target_names\n",
    "X_train,X_test,y_train,y_test=train_test_split(x[:250],y[:250],test_size=.20,random_state=123)\n",
    "\n",
    "model=SVC(kernel='linear',C=0.01).fit(X_train,y_train)\n",
    "pred=model.predict(X_test)\n",
    "\n",
    "cm=confusion_matrix(y_test,pred)\n",
    "#print(\"Confusion Matrix Is : \",cm)\n",
    "cmd=ConfusionMatrixDisplay.from_estimator(model,X_test,y_test,display_labels=class_names,cmap=plt.cm.Blues)\n",
    "#cmd.plot()\n",
    "#plt.show()\n",
    "#plt.bar(y_test,pred)\n",
    "print(cm)\n",
    "preci=precision_score(y_test,pred,average='macro')\n",
    "recall=recall_score(y_test,pred,average='macro')\n",
    "print(f\"Accuracy : {accuracy_score(y_test,pred)*100}\\nPrecision : {preci}\\nRecall :{recall}\")\n"
   ]
  },
  {
   "cell_type": "code",
   "execution_count": null,
   "id": "45b6b519",
   "metadata": {},
   "outputs": [],
   "source": []
  },
  {
   "cell_type": "code",
   "execution_count": null,
   "id": "8143a2b0",
   "metadata": {},
   "outputs": [],
   "source": []
  }
 ],
 "metadata": {
  "kernelspec": {
   "display_name": "Python 3 (ipykernel)",
   "language": "python",
   "name": "python3"
  },
  "language_info": {
   "codemirror_mode": {
    "name": "ipython",
    "version": 3
   },
   "file_extension": ".py",
   "mimetype": "text/x-python",
   "name": "python",
   "nbconvert_exporter": "python",
   "pygments_lexer": "ipython3",
   "version": "3.9.13"
  }
 },
 "nbformat": 4,
 "nbformat_minor": 5
}
